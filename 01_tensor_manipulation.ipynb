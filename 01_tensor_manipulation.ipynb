{
  "nbformat": 4,
  "nbformat_minor": 0,
  "metadata": {
    "colab": {
      "provenance": [],
      "authorship_tag": "ABX9TyMbNMOu3Fhf6NY6nPBg7dv6",
      "include_colab_link": true
    },
    "kernelspec": {
      "name": "python3",
      "display_name": "Python 3"
    },
    "language_info": {
      "name": "python"
    }
  },
  "cells": [
    {
      "cell_type": "markdown",
      "metadata": {
        "id": "view-in-github",
        "colab_type": "text"
      },
      "source": [
        "<a href=\"https://colab.research.google.com/github/Shivam9701/pytorch/blob/main/01_tensor_manipulation.ipynb\" target=\"_parent\"><img src=\"https://colab.research.google.com/assets/colab-badge.svg\" alt=\"Open In Colab\"/></a>"
      ]
    },
    {
      "cell_type": "code",
      "execution_count": 2,
      "metadata": {
        "id": "Lw1dVb6PTiFx"
      },
      "outputs": [],
      "source": [
        "import torch"
      ]
    },
    {
      "cell_type": "markdown",
      "source": [
        "## Add, Subtract, Multiply Tensors"
      ],
      "metadata": {
        "id": "f2gtsXMVTx6M"
      }
    },
    {
      "cell_type": "code",
      "source": [
        "tensor = torch.tensor([1,2,3])\n",
        "tensor + 2"
      ],
      "metadata": {
        "colab": {
          "base_uri": "https://localhost:8080/"
        },
        "id": "xMFG0K4qTpyC",
        "outputId": "e9d7e01b-68a5-4286-c7af-8dba1ce902d8"
      },
      "execution_count": null,
      "outputs": [
        {
          "output_type": "execute_result",
          "data": {
            "text/plain": [
              "tensor([3, 4, 5])"
            ]
          },
          "metadata": {},
          "execution_count": 2
        }
      ]
    },
    {
      "cell_type": "code",
      "source": [
        "tensor * 10"
      ],
      "metadata": {
        "colab": {
          "base_uri": "https://localhost:8080/"
        },
        "id": "YmPhKnEvTxN-",
        "outputId": "9c2821db-7c90-4f29-cddf-5a8050d180ae"
      },
      "execution_count": null,
      "outputs": [
        {
          "output_type": "execute_result",
          "data": {
            "text/plain": [
              "tensor([10, 20, 30])"
            ]
          },
          "metadata": {},
          "execution_count": 3
        }
      ]
    },
    {
      "cell_type": "code",
      "source": [
        "torch.mul(tensor, 10)"
      ],
      "metadata": {
        "colab": {
          "base_uri": "https://localhost:8080/"
        },
        "id": "4hJjYqbYT6ix",
        "outputId": "70e5f389-252a-43f4-f15d-3f662c1e2b44"
      },
      "execution_count": null,
      "outputs": [
        {
          "output_type": "execute_result",
          "data": {
            "text/plain": [
              "tensor([10, 20, 30])"
            ]
          },
          "metadata": {},
          "execution_count": 4
        }
      ]
    },
    {
      "cell_type": "code",
      "source": [
        "## Tensor Multiplaction ->\n",
        "# Element-wise multiplication (each element multiplies its equivalent, index 0->0, 1->1,\n",
        "tensor * tensor"
      ],
      "metadata": {
        "colab": {
          "base_uri": "https://localhost:8080/"
        },
        "id": "tyCPqeGiUDnA",
        "outputId": "0380175a-7ca7-416c-a1c5-bf1ecda9c6cf"
      },
      "execution_count": null,
      "outputs": [
        {
          "output_type": "execute_result",
          "data": {
            "text/plain": [
              "tensor([1, 4, 9])"
            ]
          },
          "metadata": {},
          "execution_count": 5
        }
      ]
    },
    {
      "cell_type": "markdown",
      "source": [
        "## Matrix Multiplication"
      ],
      "metadata": {
        "id": "gFxS-hd9Uioy"
      }
    },
    {
      "cell_type": "code",
      "source": [
        "# The difference between element-wise multiplication and matrix multiplication is the addition of values.\n",
        "\n",
        "# For our tensor variable with values [1, 2, 3]:\n",
        "\n",
        "# Operation\tCalculation\tCode\n",
        "# Element-wise multiplication\t[1*1, 2*2, 3*3] = [1, 4, 9]\ttensor * tensor\n",
        "# Matrix multiplication\t[1*1 + 2*2 + 3*3] = [14]\ttensor.matmul(tensor)\n",
        "\n",
        "torch.matmul(tensor, tensor)\n"
      ],
      "metadata": {
        "colab": {
          "base_uri": "https://localhost:8080/"
        },
        "id": "5ZP-Of0zUUG0",
        "outputId": "da24afe0-36d7-4f5b-a3b2-04a028885071"
      },
      "execution_count": null,
      "outputs": [
        {
          "output_type": "execute_result",
          "data": {
            "text/plain": [
              "tensor(14)"
            ]
          },
          "metadata": {},
          "execution_count": 6
        }
      ]
    },
    {
      "cell_type": "code",
      "source": [
        "# Shapes need to be in the right way\n",
        "tensor_A = torch.tensor([[1, 2],\n",
        "                         [3, 4],\n",
        "                         [5, 6]], dtype=torch.float32)\n",
        "\n",
        "tensor_B = torch.tensor([[7, 10],\n",
        "                         [8, 11],\n",
        "                         [9, 12]], dtype=torch.float32)\n"
      ],
      "metadata": {
        "id": "U6Bu86tNVGib"
      },
      "execution_count": 3,
      "outputs": []
    },
    {
      "cell_type": "code",
      "source": [
        "# View tensor_A and tensor_B.T\n",
        "print(tensor_A)\n",
        "print(tensor_B.T)"
      ],
      "metadata": {
        "colab": {
          "base_uri": "https://localhost:8080/"
        },
        "id": "2Aa5I9qFWx67",
        "outputId": "89002b22-caa1-4949-c2a0-93c9c6e0ed8f"
      },
      "execution_count": null,
      "outputs": [
        {
          "output_type": "stream",
          "name": "stdout",
          "text": [
            "tensor([[1., 2.],\n",
            "        [3., 4.],\n",
            "        [5., 6.]])\n",
            "tensor([[ 7.,  8.,  9.],\n",
            "        [10., 11., 12.]])\n"
          ]
        }
      ]
    },
    {
      "cell_type": "code",
      "source": [
        "%%time\n",
        "torch.matmul(tensor_A, tensor_B.T)"
      ],
      "metadata": {
        "colab": {
          "base_uri": "https://localhost:8080/"
        },
        "id": "D6JfKeCBW2UL",
        "outputId": "6380056b-14f2-4f67-e0f2-70a4f60b5afa"
      },
      "execution_count": null,
      "outputs": [
        {
          "output_type": "stream",
          "name": "stdout",
          "text": [
            "CPU times: user 821 µs, sys: 0 ns, total: 821 µs\n",
            "Wall time: 666 µs\n"
          ]
        },
        {
          "output_type": "execute_result",
          "data": {
            "text/plain": [
              "tensor([[ 27.,  30.,  33.],\n",
              "        [ 61.,  68.,  75.],\n",
              "        [ 95., 106., 117.]])"
            ]
          },
          "metadata": {},
          "execution_count": 11
        }
      ]
    },
    {
      "cell_type": "code",
      "source": [
        "## You can also use torch.mm() which is a short for torch.matmul().\n",
        "\n",
        "torch.mm(tensor_A, tensor_B.T)"
      ],
      "metadata": {
        "colab": {
          "base_uri": "https://localhost:8080/"
        },
        "id": "J5Glf6QHW9aC",
        "outputId": "52ff286a-590b-47f1-bf0a-ce4266a398e1"
      },
      "execution_count": null,
      "outputs": [
        {
          "output_type": "execute_result",
          "data": {
            "text/plain": [
              "tensor([[ 27.,  30.,  33.],\n",
              "        [ 61.,  68.,  75.],\n",
              "        [ 95., 106., 117.]])"
            ]
          },
          "metadata": {},
          "execution_count": 13
        }
      ]
    },
    {
      "cell_type": "code",
      "source": [
        "# Neural networks are full of matrix multiplications and dot products.\n",
        "\n",
        "# The torch.nn.Linear() module (we'll see this in action later on), also known as a feed-forward layer or fully connected layer, implements a matrix multiplication between an input x and a weights matrix A.\n",
        "\n",
        "# y = x.{A^T} + b\n",
        "\n",
        "# Where:\n",
        "\n",
        "# x is the input to the layer (deep learning is a stack of layers like torch.nn.Linear() and others on top of each other).\n",
        "# A is the weights matrix created by the layer, this starts out as random numbers that get adjusted as a neural network learns to better represent patterns in the data (notice the \"T\", that's because the weights matrix gets transposed).\n",
        "# Note: You might also often see W or another letter like X used to showcase the weights matrix.\n",
        "# b is the bias term used to slightly offset the weights and inputs.\n",
        "# y is the output (a manipulation of the input in the hopes to discover patterns in it).\n",
        "# This is a linear function (you may have seen something like $y = mx+b$ in high school or elsewhere), and can be used to draw a straight line!"
      ],
      "metadata": {
        "id": "3IyxsL0FXPWm"
      },
      "execution_count": null,
      "outputs": []
    },
    {
      "cell_type": "code",
      "source": [
        "torch.manual_seed(42)\n",
        "\n",
        "linear = torch.nn.Linear(in_features =2, out_features = 6)\n",
        "\n",
        "x = tensor_A\n",
        "output = linear(x)\n",
        "\n",
        "print(f\"Input shape: {x.shape}\\n\")\n",
        "print(f\"Output:\\n{output}\\n\\nOutput shape: {output.shape}\")"
      ],
      "metadata": {
        "colab": {
          "base_uri": "https://localhost:8080/"
        },
        "id": "xwQjCpfuXhbm",
        "outputId": "91246e6d-acc1-469f-f32d-57b20fc35e3c"
      },
      "execution_count": null,
      "outputs": [
        {
          "output_type": "stream",
          "name": "stdout",
          "text": [
            "Input shape: torch.Size([3, 2])\n",
            "\n",
            "Output:\n",
            "tensor([[2.2368, 1.2292, 0.4714, 0.3864, 0.1309, 0.9838],\n",
            "        [4.4919, 2.1970, 0.4469, 0.5285, 0.3401, 2.4777],\n",
            "        [6.7469, 3.1648, 0.4224, 0.6705, 0.5493, 3.9716]],\n",
            "       grad_fn=<AddmmBackward0>)\n",
            "\n",
            "Output shape: torch.Size([3, 6])\n"
          ]
        }
      ]
    },
    {
      "cell_type": "markdown",
      "source": [
        "## Finding min, max, mean, sum"
      ],
      "metadata": {
        "id": "7KFza9Olpl1s"
      }
    },
    {
      "cell_type": "code",
      "source": [
        "## some methods such as torch.mean() require tensors to be in torch.float32 (the most common) or\n",
        "## another specific datatype, otherwise the operation will fail.\n",
        "x = torch.arange(0, 100, 10)\n",
        "\n",
        "print(f\"Minimum: {x.min()}\")\n",
        "print(f\"Maximum: {x.max()}\")\n",
        "print(f\"Mean: {x.type(torch.float32).mean()}\")\n",
        "print(f\"Sum: {x.sum()}\")"
      ],
      "metadata": {
        "id": "b4r9tkyVX-BE",
        "colab": {
          "base_uri": "https://localhost:8080/"
        },
        "outputId": "d85cbe3e-6ddd-4749-e945-f9338198d27e"
      },
      "execution_count": 5,
      "outputs": [
        {
          "output_type": "stream",
          "name": "stdout",
          "text": [
            "Minimum: 0\n",
            "Maximum: 90\n",
            "Mean: 45.0\n",
            "Sum: 450\n"
          ]
        }
      ]
    },
    {
      "cell_type": "markdown",
      "source": [
        "## Positional"
      ],
      "metadata": {
        "id": "oU1Hyj2qqMJG"
      }
    },
    {
      "cell_type": "code",
      "source": [
        "x.argmin(), x.argmax() # Return index where min and max occur"
      ],
      "metadata": {
        "colab": {
          "base_uri": "https://localhost:8080/"
        },
        "id": "14FrmVoUp_40",
        "outputId": "50bd86c4-42af-43b3-9d9a-429f00fd2468"
      },
      "execution_count": 6,
      "outputs": [
        {
          "output_type": "execute_result",
          "data": {
            "text/plain": [
              "(tensor(0), tensor(9))"
            ]
          },
          "metadata": {},
          "execution_count": 6
        }
      ]
    },
    {
      "cell_type": "markdown",
      "source": [
        "## Datatypes"
      ],
      "metadata": {
        "id": "Z1Pj7pYOqZAe"
      }
    },
    {
      "cell_type": "code",
      "source": [
        "x.dtype"
      ],
      "metadata": {
        "colab": {
          "base_uri": "https://localhost:8080/"
        },
        "id": "919Pm_1QqVgc",
        "outputId": "fc569be1-351d-4b14-c584-930e8cf09938"
      },
      "execution_count": 7,
      "outputs": [
        {
          "output_type": "execute_result",
          "data": {
            "text/plain": [
              "torch.int64"
            ]
          },
          "metadata": {},
          "execution_count": 7
        }
      ]
    },
    {
      "cell_type": "code",
      "source": [
        "x_16 = x.type(torch.float16)\n",
        "x_16.dtype"
      ],
      "metadata": {
        "colab": {
          "base_uri": "https://localhost:8080/"
        },
        "id": "f0M6ia6vqbsT",
        "outputId": "f5cb7d2e-e550-4a81-982d-c5b9b8b63986"
      },
      "execution_count": 8,
      "outputs": [
        {
          "output_type": "execute_result",
          "data": {
            "text/plain": [
              "torch.float16"
            ]
          },
          "metadata": {},
          "execution_count": 8
        }
      ]
    },
    {
      "cell_type": "code",
      "source": [
        "x_8 = x.type(torch.int8)\n",
        "x_8.dtype"
      ],
      "metadata": {
        "colab": {
          "base_uri": "https://localhost:8080/"
        },
        "id": "2vVpZMI5qmV8",
        "outputId": "560ebf10-6871-465d-9ce4-07aae2a858de"
      },
      "execution_count": 9,
      "outputs": [
        {
          "output_type": "execute_result",
          "data": {
            "text/plain": [
              "torch.int8"
            ]
          },
          "metadata": {},
          "execution_count": 9
        }
      ]
    },
    {
      "cell_type": "markdown",
      "source": [
        "## Reshaping"
      ],
      "metadata": {
        "id": "sSWUar8-uL_o"
      }
    },
    {
      "cell_type": "code",
      "source": [
        "x = x.reshape((1, x.shape[0]))\n",
        "x, x.shape, x.ndim"
      ],
      "metadata": {
        "colab": {
          "base_uri": "https://localhost:8080/"
        },
        "id": "qHbiZ1QnqpbJ",
        "outputId": "bcb1b3f0-03b3-4817-fa79-13cd992717b1"
      },
      "execution_count": 20,
      "outputs": [
        {
          "output_type": "execute_result",
          "data": {
            "text/plain": [
              "(tensor([[ 0, 10, 20, 30, 40, 50, 60, 70, 80, 90]]), torch.Size([1, 10]), 2)"
            ]
          },
          "metadata": {},
          "execution_count": 20
        }
      ]
    },
    {
      "cell_type": "code",
      "source": [
        "z = x.view(1, 1, 10) # If View modified it changes original tensor\n",
        "z[0,0] = 90\n",
        "x, z"
      ],
      "metadata": {
        "colab": {
          "base_uri": "https://localhost:8080/"
        },
        "id": "e6skvgnUvAzb",
        "outputId": "f4c34fb8-2bc1-494c-bbb7-387ec0c21f96"
      },
      "execution_count": 24,
      "outputs": [
        {
          "output_type": "execute_result",
          "data": {
            "text/plain": [
              "(tensor([[90, 90, 90, 90, 90, 90, 90, 90, 90, 90]]),\n",
              " tensor([[[90, 90, 90, 90, 90, 90, 90, 90, 90, 90]]]))"
            ]
          },
          "metadata": {},
          "execution_count": 24
        }
      ]
    },
    {
      "cell_type": "code",
      "source": [
        "x = x.reshape(1, 10)\n",
        "x"
      ],
      "metadata": {
        "colab": {
          "base_uri": "https://localhost:8080/"
        },
        "id": "H-z1TiJmvGKn",
        "outputId": "71c1aeb2-eab3-4dc4-8d6e-c576f7c80274"
      },
      "execution_count": 25,
      "outputs": [
        {
          "output_type": "execute_result",
          "data": {
            "text/plain": [
              "tensor([[90, 90, 90, 90, 90, 90, 90, 90, 90, 90]])"
            ]
          },
          "metadata": {},
          "execution_count": 25
        }
      ]
    },
    {
      "cell_type": "markdown",
      "source": [
        "## Stacking"
      ],
      "metadata": {
        "id": "9xKglOD9yQJF"
      }
    },
    {
      "cell_type": "code",
      "source": [
        "x_stacked = torch.stack([x, x, x, x], dim=0) # Stack on top of each other and increase dim by 1\n",
        "x_stacked, x_stacked.shape, x.shape"
      ],
      "metadata": {
        "colab": {
          "base_uri": "https://localhost:8080/"
        },
        "id": "CvFHb4wwvyxK",
        "outputId": "f3686978-088a-4bc1-ed05-d183487ac19e"
      },
      "execution_count": 35,
      "outputs": [
        {
          "output_type": "execute_result",
          "data": {
            "text/plain": [
              "(tensor([[[90, 90, 90, 90, 90, 90, 90, 90, 90, 90]],\n",
              " \n",
              "         [[90, 90, 90, 90, 90, 90, 90, 90, 90, 90]],\n",
              " \n",
              "         [[90, 90, 90, 90, 90, 90, 90, 90, 90, 90]],\n",
              " \n",
              "         [[90, 90, 90, 90, 90, 90, 90, 90, 90, 90]]]),\n",
              " torch.Size([4, 1, 10]),\n",
              " torch.Size([1, 10]))"
            ]
          },
          "metadata": {},
          "execution_count": 35
        }
      ]
    },
    {
      "cell_type": "code",
      "source": [
        "x_stacked2 = torch.stack([x, x, x, x], dim=1) # Stack side by side\n",
        "x_stacked2, x_stacked2.shape, x.shape"
      ],
      "metadata": {
        "colab": {
          "base_uri": "https://localhost:8080/"
        },
        "id": "BmdaeHLhv49I",
        "outputId": "e1ed35cd-ab62-4c8f-89eb-7326dc6136e5"
      },
      "execution_count": 29,
      "outputs": [
        {
          "output_type": "execute_result",
          "data": {
            "text/plain": [
              "(tensor([[[90, 90, 90, 90, 90, 90, 90, 90, 90, 90],\n",
              "          [90, 90, 90, 90, 90, 90, 90, 90, 90, 90],\n",
              "          [90, 90, 90, 90, 90, 90, 90, 90, 90, 90],\n",
              "          [90, 90, 90, 90, 90, 90, 90, 90, 90, 90]]]),\n",
              " torch.Size([1, 4, 10]),\n",
              " torch.Size([1, 10]))"
            ]
          },
          "metadata": {},
          "execution_count": 29
        }
      ]
    },
    {
      "cell_type": "markdown",
      "source": [
        "## torch.squeeze() - Remove the dimensions having val 1"
      ],
      "metadata": {
        "id": "8FRaUiPayIA-"
      }
    },
    {
      "cell_type": "code",
      "source": [
        "## torch.squeeze\n",
        "\n",
        "x_squeezed = x_stacked.squeeze()\n",
        "x_squeezed, x_squeezed.shape"
      ],
      "metadata": {
        "colab": {
          "base_uri": "https://localhost:8080/"
        },
        "id": "GvisM37lwjYe",
        "outputId": "00d74ba0-d7cb-46a8-c74c-bca22b6eef9a"
      },
      "execution_count": 30,
      "outputs": [
        {
          "output_type": "execute_result",
          "data": {
            "text/plain": [
              "(tensor([[90, 90, 90, 90, 90, 90, 90, 90, 90, 90],\n",
              "         [90, 90, 90, 90, 90, 90, 90, 90, 90, 90],\n",
              "         [90, 90, 90, 90, 90, 90, 90, 90, 90, 90],\n",
              "         [90, 90, 90, 90, 90, 90, 90, 90, 90, 90]]),\n",
              " torch.Size([4, 10]))"
            ]
          },
          "metadata": {},
          "execution_count": 30
        }
      ]
    },
    {
      "cell_type": "code",
      "source": [
        "x_stacked = torch.stack([x_stacked, x_stacked])\n",
        "\n",
        "print(x_stacked.shape)\n",
        "\n",
        "x_squeezed = x_stacked.squeeze()\n",
        "x_squeezed, x_squeezed.shape"
      ],
      "metadata": {
        "colab": {
          "base_uri": "https://localhost:8080/"
        },
        "id": "wlWoajQCxCXZ",
        "outputId": "7d13e400-cff3-4c3f-ca91-3a21dba4d313"
      },
      "execution_count": 36,
      "outputs": [
        {
          "output_type": "stream",
          "name": "stdout",
          "text": [
            "torch.Size([2, 4, 1, 10])\n"
          ]
        },
        {
          "output_type": "execute_result",
          "data": {
            "text/plain": [
              "(tensor([[[90, 90, 90, 90, 90, 90, 90, 90, 90, 90],\n",
              "          [90, 90, 90, 90, 90, 90, 90, 90, 90, 90],\n",
              "          [90, 90, 90, 90, 90, 90, 90, 90, 90, 90],\n",
              "          [90, 90, 90, 90, 90, 90, 90, 90, 90, 90]],\n",
              " \n",
              "         [[90, 90, 90, 90, 90, 90, 90, 90, 90, 90],\n",
              "          [90, 90, 90, 90, 90, 90, 90, 90, 90, 90],\n",
              "          [90, 90, 90, 90, 90, 90, 90, 90, 90, 90],\n",
              "          [90, 90, 90, 90, 90, 90, 90, 90, 90, 90]]]),\n",
              " torch.Size([2, 4, 10]))"
            ]
          },
          "metadata": {},
          "execution_count": 36
        }
      ]
    },
    {
      "cell_type": "markdown",
      "source": [
        "## And to do the reverse of torch.squeeze() you can use torch.unsqueeze() to add a dimension value of 1 at a specific index."
      ],
      "metadata": {
        "id": "OC_ru4GkyZuj"
      }
    },
    {
      "cell_type": "code",
      "source": [
        "x_squeezed.unsqueeze(dim=0).shape"
      ],
      "metadata": {
        "colab": {
          "base_uri": "https://localhost:8080/"
        },
        "id": "zADoZsaGyaZE",
        "outputId": "b779701e-b41c-40d4-eb58-5af173d8ad94"
      },
      "execution_count": 37,
      "outputs": [
        {
          "output_type": "execute_result",
          "data": {
            "text/plain": [
              "torch.Size([1, 2, 4, 10])"
            ]
          },
          "metadata": {},
          "execution_count": 37
        }
      ]
    },
    {
      "cell_type": "code",
      "source": [],
      "metadata": {
        "id": "WkvKfm9RyhpH"
      },
      "execution_count": null,
      "outputs": []
    }
  ]
}